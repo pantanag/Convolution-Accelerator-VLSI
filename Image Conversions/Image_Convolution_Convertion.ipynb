{
  "nbformat": 4,
  "nbformat_minor": 0,
  "metadata": {
    "colab": {
      "name": "Image Convolution Convertion.ipynb",
      "provenance": [],
      "collapsed_sections": []
    },
    "kernelspec": {
      "display_name": "Python 3",
      "name": "python3"
    },
    "language_info": {
      "name": "python"
    }
  },
  "cells": [
    {
      "cell_type": "code",
      "metadata": {
        "id": "2ie0On6tf8hD"
      },
      "source": [
        "#Importing Libraries\n",
        "import cv2 as cv\n",
        "import numpy as np"
      ],
      "execution_count": null,
      "outputs": []
    },
    {
      "cell_type": "code",
      "metadata": {
        "id": "RTpp1MFqjL6d"
      },
      "source": [
        "#Reading Image as Grayscale\n",
        "path = \"/content/Lenna_(test_image).png\" #Replace Path if Different Picture\n",
        "image = cv.imread(path,cv.IMREAD_GRAYSCALE)\n",
        "#Resize Image if needed (change toResize to True)\n",
        "im_size = 32\n",
        "toResize = False #Must Change if we want to resize the image\n",
        "if (toResize): \n",
        "  image = cv.resize(image,(im_size,im_size),interpolation = cv2.INTER_AREA)\n",
        "cv.imwrite(\"Grayscale.png\",image)\n",
        "image = image.astype(int)\n",
        "#Writing Image as Binary for testbench\n",
        "with open(\"/content/image_\"+str(len(image))+\".txt\",\"w\") as f:\n",
        "  for array in image:\n",
        "    for item in array:\n",
        "      f.write(str(format(item,\"08b\"))+\"\\n\")\n",
        "f.close()\n",
        "#Writing Image as Decimal for easier understanding\n",
        "with open(\"/content/imageDecimal_\"+str(len(image))+\".txt\",\"w\") as d:\n",
        "  for array in image:\n",
        "    for number in array:\n",
        "      d.write(str(number)+\"\\n\")\n",
        "d.close()"
      ],
      "execution_count": null,
      "outputs": []
    },
    {
      "cell_type": "code",
      "metadata": {
        "colab": {
          "base_uri": "https://localhost:8080/"
        },
        "id": "Vi2FjERdrDkp",
        "outputId": "0b55b4ad-d131-4bf4-8d79-0f7c769fc990"
      },
      "source": [
        "#Reading Image From Modelsim (Must upload result first)\n",
        "#with open(\"/content/new_image_\"+str(len(image))+\".txt\") as f:\n",
        "with open(\"/content/new_image_512.txt\") as f:\n",
        "  lines = f.readlines()\n",
        "  binary =[]\n",
        "  for line in lines:\n",
        "    number = int(line,2)\n",
        "    binary.append(number)\n",
        "  f.close()\n",
        "#with open(\"/content/new_imageDecimal_\"+str(len(image))+\".txt\",\"w\") as k:\n",
        "with open(\"/content/new_imageDecimal_512.txt\",\"w\") as k:\n",
        "  for number in binary:\n",
        "    k.write(str(number)+\"\\n\")\n",
        "#Conver to np matrix\n",
        "arr = np.array(binary).reshape(512,512)\n",
        "cv.imwrite(\"Filtered.png\",arr)"
      ],
      "execution_count": null,
      "outputs": [
        {
          "output_type": "execute_result",
          "data": {
            "text/plain": [
              "True"
            ]
          },
          "metadata": {
            "tags": []
          },
          "execution_count": 2
        }
      ]
    }
  ]
}